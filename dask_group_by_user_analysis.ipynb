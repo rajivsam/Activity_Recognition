{
 "cells": [
  {
   "cell_type": "code",
   "execution_count": 1,
   "metadata": {},
   "outputs": [],
   "source": [
    "import os\n",
    "import dask.dataframe as dd\n",
    "import graphviz\n",
    "os.chdir(\"/home/admin123/Activity_Description/AR_data\")\n",
    "fp = \"Phones_accelerometer.csv\"\n",
    "df = dd.read_csv(fp)"
   ]
  },
  {
   "cell_type": "code",
   "execution_count": 2,
   "metadata": {},
   "outputs": [
    {
     "data": {
      "text/plain": [
       "Index([u'Index', u'Arrival_Time', u'Creation_Time', u'x', u'y', u'z', u'User',\n",
       "       u'Model', u'Device', u'gt'],\n",
       "      dtype='object')"
      ]
     },
     "execution_count": 2,
     "metadata": {},
     "output_type": "execute_result"
    }
   ],
   "source": [
    "df.columns"
   ]
  },
  {
   "cell_type": "code",
   "execution_count": 3,
   "metadata": {},
   "outputs": [
    {
     "data": {
      "text/plain": [
       "Index              int64\n",
       "Arrival_Time       int64\n",
       "Creation_Time      int64\n",
       "x                float64\n",
       "y                float64\n",
       "z                float64\n",
       "User              object\n",
       "Model             object\n",
       "Device            object\n",
       "gt                object\n",
       "dtype: object"
      ]
     },
     "execution_count": 3,
     "metadata": {},
     "output_type": "execute_result"
    }
   ],
   "source": [
    "df.dtypes"
   ]
  },
  {
   "cell_type": "code",
   "execution_count": 4,
   "metadata": {},
   "outputs": [
    {
     "data": {
      "text/html": [
       "<div>\n",
       "<style scoped>\n",
       "    .dataframe tbody tr th:only-of-type {\n",
       "        vertical-align: middle;\n",
       "    }\n",
       "\n",
       "    .dataframe tbody tr th {\n",
       "        vertical-align: top;\n",
       "    }\n",
       "\n",
       "    .dataframe thead th {\n",
       "        text-align: right;\n",
       "    }\n",
       "</style>\n",
       "<table border=\"1\" class=\"dataframe\">\n",
       "  <thead>\n",
       "    <tr style=\"text-align: right;\">\n",
       "      <th></th>\n",
       "      <th>Index</th>\n",
       "      <th>Arrival_Time</th>\n",
       "      <th>Creation_Time</th>\n",
       "      <th>x</th>\n",
       "      <th>y</th>\n",
       "      <th>z</th>\n",
       "      <th>User</th>\n",
       "      <th>Model</th>\n",
       "      <th>Device</th>\n",
       "      <th>gt</th>\n",
       "    </tr>\n",
       "  </thead>\n",
       "  <tbody>\n",
       "    <tr>\n",
       "      <th>0</th>\n",
       "      <td>0</td>\n",
       "      <td>1424696633908</td>\n",
       "      <td>1424696631913248572</td>\n",
       "      <td>-5.958191</td>\n",
       "      <td>0.688065</td>\n",
       "      <td>8.135345</td>\n",
       "      <td>a</td>\n",
       "      <td>nexus4</td>\n",
       "      <td>nexus4_1</td>\n",
       "      <td>stand</td>\n",
       "    </tr>\n",
       "    <tr>\n",
       "      <th>1</th>\n",
       "      <td>1</td>\n",
       "      <td>1424696633909</td>\n",
       "      <td>1424696631918283972</td>\n",
       "      <td>-5.952240</td>\n",
       "      <td>0.670212</td>\n",
       "      <td>8.136536</td>\n",
       "      <td>a</td>\n",
       "      <td>nexus4</td>\n",
       "      <td>nexus4_1</td>\n",
       "      <td>stand</td>\n",
       "    </tr>\n",
       "    <tr>\n",
       "      <th>2</th>\n",
       "      <td>2</td>\n",
       "      <td>1424696633918</td>\n",
       "      <td>1424696631923288855</td>\n",
       "      <td>-5.995087</td>\n",
       "      <td>0.653549</td>\n",
       "      <td>8.204376</td>\n",
       "      <td>a</td>\n",
       "      <td>nexus4</td>\n",
       "      <td>nexus4_1</td>\n",
       "      <td>stand</td>\n",
       "    </tr>\n",
       "    <tr>\n",
       "      <th>3</th>\n",
       "      <td>3</td>\n",
       "      <td>1424696633919</td>\n",
       "      <td>1424696631928385290</td>\n",
       "      <td>-5.942718</td>\n",
       "      <td>0.676163</td>\n",
       "      <td>8.128204</td>\n",
       "      <td>a</td>\n",
       "      <td>nexus4</td>\n",
       "      <td>nexus4_1</td>\n",
       "      <td>stand</td>\n",
       "    </tr>\n",
       "    <tr>\n",
       "      <th>4</th>\n",
       "      <td>4</td>\n",
       "      <td>1424696633929</td>\n",
       "      <td>1424696631933420691</td>\n",
       "      <td>-5.991516</td>\n",
       "      <td>0.641647</td>\n",
       "      <td>8.135345</td>\n",
       "      <td>a</td>\n",
       "      <td>nexus4</td>\n",
       "      <td>nexus4_1</td>\n",
       "      <td>stand</td>\n",
       "    </tr>\n",
       "  </tbody>\n",
       "</table>\n",
       "</div>"
      ],
      "text/plain": [
       "   Index   Arrival_Time        Creation_Time         x         y         z  \\\n",
       "0      0  1424696633908  1424696631913248572 -5.958191  0.688065  8.135345   \n",
       "1      1  1424696633909  1424696631918283972 -5.952240  0.670212  8.136536   \n",
       "2      2  1424696633918  1424696631923288855 -5.995087  0.653549  8.204376   \n",
       "3      3  1424696633919  1424696631928385290 -5.942718  0.676163  8.128204   \n",
       "4      4  1424696633929  1424696631933420691 -5.991516  0.641647  8.135345   \n",
       "\n",
       "  User   Model    Device     gt  \n",
       "0    a  nexus4  nexus4_1  stand  \n",
       "1    a  nexus4  nexus4_1  stand  \n",
       "2    a  nexus4  nexus4_1  stand  \n",
       "3    a  nexus4  nexus4_1  stand  \n",
       "4    a  nexus4  nexus4_1  stand  "
      ]
     },
     "execution_count": 4,
     "metadata": {},
     "output_type": "execute_result"
    }
   ],
   "source": [
    "df.head()"
   ]
  },
  {
   "cell_type": "code",
   "execution_count": 14,
   "metadata": {},
   "outputs": [
    {
     "data": {
      "text/plain": [
       "13062475"
      ]
     },
     "execution_count": 14,
     "metadata": {},
     "output_type": "execute_result"
    }
   ],
   "source": [
    "len(df.index)"
   ]
  },
  {
   "cell_type": "markdown",
   "metadata": {},
   "source": [
    "## Note: Convert creation time from unix timestamp to date time"
   ]
  },
  {
   "cell_type": "code",
   "execution_count": 7,
   "metadata": {},
   "outputs": [
    {
     "name": "stdout",
     "output_type": "stream",
     "text": [
      "CPU times: user 12 ms, sys: 0 ns, total: 12 ms\n",
      "Wall time: 17.8 ms\n"
     ]
    },
    {
     "name": "stderr",
     "output_type": "stream",
     "text": [
      "/home/admin123/anaconda/lib/python2.7/site-packages/pandas/core/internals.py:3714: FutureWarning: Passing in 'datetime64' dtype with no frequency is deprecated and will raise in a future version. Please pass in 'datetime64[ns]' instead.\n",
      "  return self.apply('astype', dtype=dtype, **kwargs)\n"
     ]
    }
   ],
   "source": [
    "%%time\n",
    "import datetime\n",
    "import numpy as np\n",
    "df[\"Creation_Time\"] = df[\"Creation_Time\"].astype(\"datetime64\")"
   ]
  },
  {
   "cell_type": "markdown",
   "metadata": {},
   "source": [
    "##  Note: Extract date, hour and minute from the time stamp for group by aggregation"
   ]
  },
  {
   "cell_type": "code",
   "execution_count": 8,
   "metadata": {},
   "outputs": [],
   "source": [
    "df[\"date\"] = df[\"Creation_Time\"].dt.date"
   ]
  },
  {
   "cell_type": "code",
   "execution_count": 9,
   "metadata": {},
   "outputs": [
    {
     "data": {
      "text/plain": [
       "0    2015-02-23\n",
       "1    2015-02-23\n",
       "2    2015-02-23\n",
       "3    2015-02-23\n",
       "4    2015-02-23\n",
       "Name: date, dtype: object"
      ]
     },
     "execution_count": 9,
     "metadata": {},
     "output_type": "execute_result"
    }
   ],
   "source": [
    "df[\"date\"].head()"
   ]
  },
  {
   "cell_type": "code",
   "execution_count": 10,
   "metadata": {},
   "outputs": [],
   "source": [
    "df[\"hour\"] = df[\"Creation_Time\"].dt.hour"
   ]
  },
  {
   "cell_type": "code",
   "execution_count": 11,
   "metadata": {},
   "outputs": [],
   "source": [
    "df[\"minute\"] = df[\"Creation_Time\"].dt.minute"
   ]
  },
  {
   "cell_type": "code",
   "execution_count": 12,
   "metadata": {},
   "outputs": [
    {
     "data": {
      "text/plain": [
       "Index([u'Index', u'Arrival_Time', u'Creation_Time', u'x', u'y', u'z', u'User',\n",
       "       u'Model', u'Device', u'gt', u'date', u'hour', u'minute'],\n",
       "      dtype='object')"
      ]
     },
     "execution_count": 12,
     "metadata": {},
     "output_type": "execute_result"
    }
   ],
   "source": [
    "df.columns"
   ]
  },
  {
   "cell_type": "code",
   "execution_count": 13,
   "metadata": {},
   "outputs": [],
   "source": [
    "#dfs = df.set_index([\"User\",\"date\", \"hour\", \"minute\"])\n"
   ]
  },
  {
   "cell_type": "code",
   "execution_count": 15,
   "metadata": {},
   "outputs": [
    {
     "name": "stdout",
     "output_type": "stream",
     "text": [
      "CPU times: user 1min 12s, sys: 24.9 s, total: 1min 37s\n",
      "Wall time: 37.8 s\n"
     ]
    }
   ],
   "source": [
    "%%time\n",
    "dfgb = df.groupby([\"User\",\"Model\", \"Device\", \"gt\",\"date\", \"hour\", \"minute\" ]).mean().compute()"
   ]
  },
  {
   "cell_type": "code",
   "execution_count": 11,
   "metadata": {},
   "outputs": [
    {
     "data": {
      "text/plain": [
       "2639"
      ]
     },
     "execution_count": 11,
     "metadata": {},
     "output_type": "execute_result"
    }
   ],
   "source": [
    "len(dfgb.index)"
   ]
  },
  {
   "cell_type": "code",
   "execution_count": 12,
   "metadata": {},
   "outputs": [
    {
     "data": {
      "text/html": [
       "<div>\n",
       "<style scoped>\n",
       "    .dataframe tbody tr th:only-of-type {\n",
       "        vertical-align: middle;\n",
       "    }\n",
       "\n",
       "    .dataframe tbody tr th {\n",
       "        vertical-align: top;\n",
       "    }\n",
       "\n",
       "    .dataframe thead th {\n",
       "        text-align: right;\n",
       "    }\n",
       "</style>\n",
       "<table border=\"1\" class=\"dataframe\">\n",
       "  <thead>\n",
       "    <tr style=\"text-align: right;\">\n",
       "      <th></th>\n",
       "      <th></th>\n",
       "      <th></th>\n",
       "      <th></th>\n",
       "      <th></th>\n",
       "      <th></th>\n",
       "      <th></th>\n",
       "      <th>Arrival_Time</th>\n",
       "      <th>Creation_Time</th>\n",
       "      <th>Index</th>\n",
       "      <th>x</th>\n",
       "      <th>y</th>\n",
       "      <th>z</th>\n",
       "    </tr>\n",
       "    <tr>\n",
       "      <th>User</th>\n",
       "      <th>Model</th>\n",
       "      <th>Device</th>\n",
       "      <th>gt</th>\n",
       "      <th>date</th>\n",
       "      <th>hour</th>\n",
       "      <th>minute</th>\n",
       "      <th></th>\n",
       "      <th></th>\n",
       "      <th></th>\n",
       "      <th></th>\n",
       "      <th></th>\n",
       "      <th></th>\n",
       "    </tr>\n",
       "  </thead>\n",
       "  <tbody>\n",
       "    <tr>\n",
       "      <th rowspan=\"20\" valign=\"top\">a</th>\n",
       "      <th rowspan=\"20\" valign=\"top\">nexus4</th>\n",
       "      <th rowspan=\"20\" valign=\"top\">nexus4_1</th>\n",
       "      <th rowspan=\"6\" valign=\"top\">bike</th>\n",
       "      <th rowspan=\"6\" valign=\"top\">2015-02-23</th>\n",
       "      <th rowspan=\"6\" valign=\"top\">13</th>\n",
       "      <th>30</th>\n",
       "      <td>1.424698e+12</td>\n",
       "      <td>NaN</td>\n",
       "      <td>290092.000000</td>\n",
       "      <td>-4.895992</td>\n",
       "      <td>0.420529</td>\n",
       "      <td>8.745772</td>\n",
       "    </tr>\n",
       "    <tr>\n",
       "      <th>31</th>\n",
       "      <td>1.424698e+12</td>\n",
       "      <td>NaN</td>\n",
       "      <td>297413.500000</td>\n",
       "      <td>-4.771115</td>\n",
       "      <td>0.227741</td>\n",
       "      <td>8.895711</td>\n",
       "    </tr>\n",
       "    <tr>\n",
       "      <th>32</th>\n",
       "      <td>1.424698e+12</td>\n",
       "      <td>NaN</td>\n",
       "      <td>305203.500000</td>\n",
       "      <td>-4.722528</td>\n",
       "      <td>0.265253</td>\n",
       "      <td>8.917659</td>\n",
       "    </tr>\n",
       "    <tr>\n",
       "      <th>33</th>\n",
       "      <td>1.424698e+12</td>\n",
       "      <td>NaN</td>\n",
       "      <td>311814.000000</td>\n",
       "      <td>-4.900786</td>\n",
       "      <td>0.087041</td>\n",
       "      <td>8.845624</td>\n",
       "    </tr>\n",
       "    <tr>\n",
       "      <th>34</th>\n",
       "      <td>1.424698e+12</td>\n",
       "      <td>NaN</td>\n",
       "      <td>318346.000000</td>\n",
       "      <td>-4.793545</td>\n",
       "      <td>0.162035</td>\n",
       "      <td>8.903905</td>\n",
       "    </tr>\n",
       "    <tr>\n",
       "      <th>35</th>\n",
       "      <td>1.424699e+12</td>\n",
       "      <td>NaN</td>\n",
       "      <td>322752.000000</td>\n",
       "      <td>-4.491119</td>\n",
       "      <td>0.484359</td>\n",
       "      <td>9.031090</td>\n",
       "    </tr>\n",
       "    <tr>\n",
       "      <th rowspan=\"6\" valign=\"top\">sit</th>\n",
       "      <th rowspan=\"6\" valign=\"top\">2015-02-23</th>\n",
       "      <th rowspan=\"6\" valign=\"top\">13</th>\n",
       "      <th>9</th>\n",
       "      <td>1.424697e+12</td>\n",
       "      <td>NaN</td>\n",
       "      <td>60954.500000</td>\n",
       "      <td>0.398511</td>\n",
       "      <td>-0.519361</td>\n",
       "      <td>10.254015</td>\n",
       "    </tr>\n",
       "    <tr>\n",
       "      <th>10</th>\n",
       "      <td>1.424697e+12</td>\n",
       "      <td>NaN</td>\n",
       "      <td>72008.500000</td>\n",
       "      <td>0.367867</td>\n",
       "      <td>-0.521858</td>\n",
       "      <td>10.258296</td>\n",
       "    </tr>\n",
       "    <tr>\n",
       "      <th>11</th>\n",
       "      <td>1.424697e+12</td>\n",
       "      <td>NaN</td>\n",
       "      <td>83893.000000</td>\n",
       "      <td>0.388751</td>\n",
       "      <td>-0.548600</td>\n",
       "      <td>10.257461</td>\n",
       "    </tr>\n",
       "    <tr>\n",
       "      <th>12</th>\n",
       "      <td>1.424697e+12</td>\n",
       "      <td>NaN</td>\n",
       "      <td>95805.500000</td>\n",
       "      <td>0.415979</td>\n",
       "      <td>-0.556089</td>\n",
       "      <td>10.257593</td>\n",
       "    </tr>\n",
       "    <tr>\n",
       "      <th>13</th>\n",
       "      <td>1.424697e+12</td>\n",
       "      <td>NaN</td>\n",
       "      <td>107687.000000</td>\n",
       "      <td>0.412031</td>\n",
       "      <td>-0.541542</td>\n",
       "      <td>10.259347</td>\n",
       "    </tr>\n",
       "    <tr>\n",
       "      <th>14</th>\n",
       "      <td>1.424697e+12</td>\n",
       "      <td>NaN</td>\n",
       "      <td>114697.500000</td>\n",
       "      <td>0.509805</td>\n",
       "      <td>-0.529403</td>\n",
       "      <td>10.258923</td>\n",
       "    </tr>\n",
       "    <tr>\n",
       "      <th rowspan=\"8\" valign=\"top\">stairsdown</th>\n",
       "      <th rowspan=\"8\" valign=\"top\">2015-02-23</th>\n",
       "      <th rowspan=\"8\" valign=\"top\">13</th>\n",
       "      <th>21</th>\n",
       "      <td>1.424698e+12</td>\n",
       "      <td>NaN</td>\n",
       "      <td>196103.500000</td>\n",
       "      <td>-5.469343</td>\n",
       "      <td>-0.549475</td>\n",
       "      <td>8.526297</td>\n",
       "    </tr>\n",
       "    <tr>\n",
       "      <th>22</th>\n",
       "      <td>1.424698e+12</td>\n",
       "      <td>NaN</td>\n",
       "      <td>202307.528855</td>\n",
       "      <td>-5.647586</td>\n",
       "      <td>0.864106</td>\n",
       "      <td>8.379605</td>\n",
       "    </tr>\n",
       "    <tr>\n",
       "      <th>23</th>\n",
       "      <td>1.424698e+12</td>\n",
       "      <td>NaN</td>\n",
       "      <td>216410.500000</td>\n",
       "      <td>-6.009834</td>\n",
       "      <td>0.308053</td>\n",
       "      <td>8.149792</td>\n",
       "    </tr>\n",
       "    <tr>\n",
       "      <th>24</th>\n",
       "      <td>1.424698e+12</td>\n",
       "      <td>NaN</td>\n",
       "      <td>232370.000000</td>\n",
       "      <td>-6.084036</td>\n",
       "      <td>0.257951</td>\n",
       "      <td>8.063477</td>\n",
       "    </tr>\n",
       "    <tr>\n",
       "      <th>25</th>\n",
       "      <td>1.424698e+12</td>\n",
       "      <td>NaN</td>\n",
       "      <td>236807.500000</td>\n",
       "      <td>-6.137979</td>\n",
       "      <td>0.214552</td>\n",
       "      <td>8.077898</td>\n",
       "    </tr>\n",
       "    <tr>\n",
       "      <th>26</th>\n",
       "      <td>1.424698e+12</td>\n",
       "      <td>NaN</td>\n",
       "      <td>253522.000000</td>\n",
       "      <td>-6.123949</td>\n",
       "      <td>0.256463</td>\n",
       "      <td>8.029180</td>\n",
       "    </tr>\n",
       "    <tr>\n",
       "      <th>27</th>\n",
       "      <td>1.424698e+12</td>\n",
       "      <td>NaN</td>\n",
       "      <td>258261.500000</td>\n",
       "      <td>-6.260342</td>\n",
       "      <td>0.233709</td>\n",
       "      <td>8.011930</td>\n",
       "    </tr>\n",
       "    <tr>\n",
       "      <th>28</th>\n",
       "      <td>1.424698e+12</td>\n",
       "      <td>NaN</td>\n",
       "      <td>273954.500000</td>\n",
       "      <td>-6.255625</td>\n",
       "      <td>0.141559</td>\n",
       "      <td>7.940458</td>\n",
       "    </tr>\n",
       "  </tbody>\n",
       "</table>\n",
       "</div>"
      ],
      "text/plain": [
       "                                                        Arrival_Time  \\\n",
       "User Model  Device   gt         date       hour minute                 \n",
       "a    nexus4 nexus4_1 bike       2015-02-23 13   30      1.424698e+12   \n",
       "                                                31      1.424698e+12   \n",
       "                                                32      1.424698e+12   \n",
       "                                                33      1.424698e+12   \n",
       "                                                34      1.424698e+12   \n",
       "                                                35      1.424699e+12   \n",
       "                     sit        2015-02-23 13   9       1.424697e+12   \n",
       "                                                10      1.424697e+12   \n",
       "                                                11      1.424697e+12   \n",
       "                                                12      1.424697e+12   \n",
       "                                                13      1.424697e+12   \n",
       "                                                14      1.424697e+12   \n",
       "                     stairsdown 2015-02-23 13   21      1.424698e+12   \n",
       "                                                22      1.424698e+12   \n",
       "                                                23      1.424698e+12   \n",
       "                                                24      1.424698e+12   \n",
       "                                                25      1.424698e+12   \n",
       "                                                26      1.424698e+12   \n",
       "                                                27      1.424698e+12   \n",
       "                                                28      1.424698e+12   \n",
       "\n",
       "                                                        Creation_Time  \\\n",
       "User Model  Device   gt         date       hour minute                  \n",
       "a    nexus4 nexus4_1 bike       2015-02-23 13   30                NaN   \n",
       "                                                31                NaN   \n",
       "                                                32                NaN   \n",
       "                                                33                NaN   \n",
       "                                                34                NaN   \n",
       "                                                35                NaN   \n",
       "                     sit        2015-02-23 13   9                 NaN   \n",
       "                                                10                NaN   \n",
       "                                                11                NaN   \n",
       "                                                12                NaN   \n",
       "                                                13                NaN   \n",
       "                                                14                NaN   \n",
       "                     stairsdown 2015-02-23 13   21                NaN   \n",
       "                                                22                NaN   \n",
       "                                                23                NaN   \n",
       "                                                24                NaN   \n",
       "                                                25                NaN   \n",
       "                                                26                NaN   \n",
       "                                                27                NaN   \n",
       "                                                28                NaN   \n",
       "\n",
       "                                                                Index  \\\n",
       "User Model  Device   gt         date       hour minute                  \n",
       "a    nexus4 nexus4_1 bike       2015-02-23 13   30      290092.000000   \n",
       "                                                31      297413.500000   \n",
       "                                                32      305203.500000   \n",
       "                                                33      311814.000000   \n",
       "                                                34      318346.000000   \n",
       "                                                35      322752.000000   \n",
       "                     sit        2015-02-23 13   9        60954.500000   \n",
       "                                                10       72008.500000   \n",
       "                                                11       83893.000000   \n",
       "                                                12       95805.500000   \n",
       "                                                13      107687.000000   \n",
       "                                                14      114697.500000   \n",
       "                     stairsdown 2015-02-23 13   21      196103.500000   \n",
       "                                                22      202307.528855   \n",
       "                                                23      216410.500000   \n",
       "                                                24      232370.000000   \n",
       "                                                25      236807.500000   \n",
       "                                                26      253522.000000   \n",
       "                                                27      258261.500000   \n",
       "                                                28      273954.500000   \n",
       "\n",
       "                                                               x         y  \\\n",
       "User Model  Device   gt         date       hour minute                       \n",
       "a    nexus4 nexus4_1 bike       2015-02-23 13   30     -4.895992  0.420529   \n",
       "                                                31     -4.771115  0.227741   \n",
       "                                                32     -4.722528  0.265253   \n",
       "                                                33     -4.900786  0.087041   \n",
       "                                                34     -4.793545  0.162035   \n",
       "                                                35     -4.491119  0.484359   \n",
       "                     sit        2015-02-23 13   9       0.398511 -0.519361   \n",
       "                                                10      0.367867 -0.521858   \n",
       "                                                11      0.388751 -0.548600   \n",
       "                                                12      0.415979 -0.556089   \n",
       "                                                13      0.412031 -0.541542   \n",
       "                                                14      0.509805 -0.529403   \n",
       "                     stairsdown 2015-02-23 13   21     -5.469343 -0.549475   \n",
       "                                                22     -5.647586  0.864106   \n",
       "                                                23     -6.009834  0.308053   \n",
       "                                                24     -6.084036  0.257951   \n",
       "                                                25     -6.137979  0.214552   \n",
       "                                                26     -6.123949  0.256463   \n",
       "                                                27     -6.260342  0.233709   \n",
       "                                                28     -6.255625  0.141559   \n",
       "\n",
       "                                                                z  \n",
       "User Model  Device   gt         date       hour minute             \n",
       "a    nexus4 nexus4_1 bike       2015-02-23 13   30       8.745772  \n",
       "                                                31       8.895711  \n",
       "                                                32       8.917659  \n",
       "                                                33       8.845624  \n",
       "                                                34       8.903905  \n",
       "                                                35       9.031090  \n",
       "                     sit        2015-02-23 13   9       10.254015  \n",
       "                                                10      10.258296  \n",
       "                                                11      10.257461  \n",
       "                                                12      10.257593  \n",
       "                                                13      10.259347  \n",
       "                                                14      10.258923  \n",
       "                     stairsdown 2015-02-23 13   21       8.526297  \n",
       "                                                22       8.379605  \n",
       "                                                23       8.149792  \n",
       "                                                24       8.063477  \n",
       "                                                25       8.077898  \n",
       "                                                26       8.029180  \n",
       "                                                27       8.011930  \n",
       "                                                28       7.940458  "
      ]
     },
     "execution_count": 12,
     "metadata": {},
     "output_type": "execute_result"
    }
   ],
   "source": [
    "#dfgb.reset_index()\n",
    "dfgb.head(20)"
   ]
  },
  {
   "cell_type": "markdown",
   "metadata": {},
   "source": [
    "## Note: Aggregation by mean on the time stamp attributes and index, does not make sense, so we will just drop these"
   ]
  },
  {
   "cell_type": "code",
   "execution_count": 13,
   "metadata": {},
   "outputs": [
    {
     "data": {
      "text/html": [
       "<div>\n",
       "<style scoped>\n",
       "    .dataframe tbody tr th:only-of-type {\n",
       "        vertical-align: middle;\n",
       "    }\n",
       "\n",
       "    .dataframe tbody tr th {\n",
       "        vertical-align: top;\n",
       "    }\n",
       "\n",
       "    .dataframe thead th {\n",
       "        text-align: right;\n",
       "    }\n",
       "</style>\n",
       "<table border=\"1\" class=\"dataframe\">\n",
       "  <thead>\n",
       "    <tr style=\"text-align: right;\">\n",
       "      <th></th>\n",
       "      <th></th>\n",
       "      <th></th>\n",
       "      <th></th>\n",
       "      <th></th>\n",
       "      <th></th>\n",
       "      <th></th>\n",
       "      <th>x</th>\n",
       "      <th>y</th>\n",
       "      <th>z</th>\n",
       "    </tr>\n",
       "    <tr>\n",
       "      <th>User</th>\n",
       "      <th>Model</th>\n",
       "      <th>Device</th>\n",
       "      <th>gt</th>\n",
       "      <th>date</th>\n",
       "      <th>hour</th>\n",
       "      <th>minute</th>\n",
       "      <th></th>\n",
       "      <th></th>\n",
       "      <th></th>\n",
       "    </tr>\n",
       "  </thead>\n",
       "  <tbody>\n",
       "    <tr>\n",
       "      <th rowspan=\"5\" valign=\"top\">a</th>\n",
       "      <th rowspan=\"5\" valign=\"top\">nexus4</th>\n",
       "      <th rowspan=\"5\" valign=\"top\">nexus4_1</th>\n",
       "      <th rowspan=\"5\" valign=\"top\">bike</th>\n",
       "      <th rowspan=\"5\" valign=\"top\">2015-02-23</th>\n",
       "      <th rowspan=\"5\" valign=\"top\">13</th>\n",
       "      <th>30</th>\n",
       "      <td>-4.895992</td>\n",
       "      <td>0.420529</td>\n",
       "      <td>8.745772</td>\n",
       "    </tr>\n",
       "    <tr>\n",
       "      <th>31</th>\n",
       "      <td>-4.771115</td>\n",
       "      <td>0.227741</td>\n",
       "      <td>8.895711</td>\n",
       "    </tr>\n",
       "    <tr>\n",
       "      <th>32</th>\n",
       "      <td>-4.722528</td>\n",
       "      <td>0.265253</td>\n",
       "      <td>8.917659</td>\n",
       "    </tr>\n",
       "    <tr>\n",
       "      <th>33</th>\n",
       "      <td>-4.900786</td>\n",
       "      <td>0.087041</td>\n",
       "      <td>8.845624</td>\n",
       "    </tr>\n",
       "    <tr>\n",
       "      <th>34</th>\n",
       "      <td>-4.793545</td>\n",
       "      <td>0.162035</td>\n",
       "      <td>8.903905</td>\n",
       "    </tr>\n",
       "  </tbody>\n",
       "</table>\n",
       "</div>"
      ],
      "text/plain": [
       "                                                         x         y         z\n",
       "User Model  Device   gt   date       hour minute                              \n",
       "a    nexus4 nexus4_1 bike 2015-02-23 13   30     -4.895992  0.420529  8.745772\n",
       "                                          31     -4.771115  0.227741  8.895711\n",
       "                                          32     -4.722528  0.265253  8.917659\n",
       "                                          33     -4.900786  0.087041  8.845624\n",
       "                                          34     -4.793545  0.162035  8.903905"
      ]
     },
     "execution_count": 13,
     "metadata": {},
     "output_type": "execute_result"
    }
   ],
   "source": [
    "req_cols = [\"x\", \"y\", \"z\"]\n",
    "dfgb = dfgb[req_cols]\n",
    "dfgb.head()"
   ]
  },
  {
   "cell_type": "code",
   "execution_count": 14,
   "metadata": {},
   "outputs": [],
   "source": [
    "import seaborn as sns\n",
    "dfgb = dfgb.reset_index()"
   ]
  },
  {
   "cell_type": "code",
   "execution_count": 15,
   "metadata": {},
   "outputs": [
    {
     "data": {
      "text/plain": [
       "<matplotlib.axes._subplots.AxesSubplot at 0x7f3bae4b4fd0>"
      ]
     },
     "execution_count": 15,
     "metadata": {},
     "output_type": "execute_result"
    },
    {
     "data": {
      "image/png": "[encoded data removed]",
      "text/plain": [
       "<Figure size 1080x720 with 1 Axes>"
      ]
     },
     "metadata": {},
     "output_type": "display_data"
    }
   ],
   "source": [
    "import matplotlib.pyplot as plt\n",
    "plt.style.use('classic')\n",
    "%matplotlib inline\n",
    "f, ax = plt.subplots(1, 1, figsize = (15, 10))\n",
    "sns.countplot(x = \"User\", hue = \"gt\", data = dfgb)"
   ]
  },
  {
   "cell_type": "code",
   "execution_count": 16,
   "metadata": {},
   "outputs": [
    {
     "data": {
      "text/plain": [
       "<seaborn.axisgrid.FacetGrid at 0x7f3bae49a490>"
      ]
     },
     "execution_count": 16,
     "metadata": {},
     "output_type": "execute_result"
    },
    {
     "data": {
      "image/png": "[encoded data removed]",
      "text/plain": [
       "<Figure size 1296x1944 with 54 Axes>"
      ]
     },
     "metadata": {},
     "output_type": "display_data"
    }
   ],
   "source": [
    "\n",
    "\n",
    "grid = sns.FacetGrid(dfgb, row=\"User\", col=\"gt\", margin_titles=True)\n",
    "grid.map(plt.hist, \"x\")"
   ]
  },
  {
   "cell_type": "markdown",
   "metadata": {},
   "source": [
    "## Note : Delete the dataframe, we will use only the summarized results for further analysis. This is for reclaiming the memory"
   ]
  },
  {
   "cell_type": "code",
   "execution_count": null,
   "metadata": {},
   "outputs": [],
   "source": [
    "del df"
   ]
  },
  {
   "cell_type": "code",
   "execution_count": 18,
   "metadata": {},
   "outputs": [],
   "source": [
    "dfgb.ccolumns = dfgb.columns.get_level_values(0)"
   ]
  },
  {
   "cell_type": "code",
   "execution_count": 19,
   "metadata": {},
   "outputs": [
    {
     "data": {
      "text/html": [
       "<div>\n",
       "<style scoped>\n",
       "    .dataframe tbody tr th:only-of-type {\n",
       "        vertical-align: middle;\n",
       "    }\n",
       "\n",
       "    .dataframe tbody tr th {\n",
       "        vertical-align: top;\n",
       "    }\n",
       "\n",
       "    .dataframe thead th {\n",
       "        text-align: right;\n",
       "    }\n",
       "</style>\n",
       "<table border=\"1\" class=\"dataframe\">\n",
       "  <thead>\n",
       "    <tr style=\"text-align: right;\">\n",
       "      <th></th>\n",
       "      <th>User</th>\n",
       "      <th>Model</th>\n",
       "      <th>Device</th>\n",
       "      <th>gt</th>\n",
       "      <th>date</th>\n",
       "      <th>hour</th>\n",
       "      <th>minute</th>\n",
       "      <th>x</th>\n",
       "      <th>y</th>\n",
       "      <th>z</th>\n",
       "    </tr>\n",
       "  </thead>\n",
       "  <tbody>\n",
       "    <tr>\n",
       "      <th>0</th>\n",
       "      <td>a</td>\n",
       "      <td>nexus4</td>\n",
       "      <td>nexus4_1</td>\n",
       "      <td>bike</td>\n",
       "      <td>2015-02-23</td>\n",
       "      <td>13</td>\n",
       "      <td>30</td>\n",
       "      <td>-4.895992</td>\n",
       "      <td>0.420529</td>\n",
       "      <td>8.745772</td>\n",
       "    </tr>\n",
       "    <tr>\n",
       "      <th>1</th>\n",
       "      <td>a</td>\n",
       "      <td>nexus4</td>\n",
       "      <td>nexus4_1</td>\n",
       "      <td>bike</td>\n",
       "      <td>2015-02-23</td>\n",
       "      <td>13</td>\n",
       "      <td>31</td>\n",
       "      <td>-4.771115</td>\n",
       "      <td>0.227741</td>\n",
       "      <td>8.895711</td>\n",
       "    </tr>\n",
       "    <tr>\n",
       "      <th>2</th>\n",
       "      <td>a</td>\n",
       "      <td>nexus4</td>\n",
       "      <td>nexus4_1</td>\n",
       "      <td>bike</td>\n",
       "      <td>2015-02-23</td>\n",
       "      <td>13</td>\n",
       "      <td>32</td>\n",
       "      <td>-4.722528</td>\n",
       "      <td>0.265253</td>\n",
       "      <td>8.917659</td>\n",
       "    </tr>\n",
       "    <tr>\n",
       "      <th>3</th>\n",
       "      <td>a</td>\n",
       "      <td>nexus4</td>\n",
       "      <td>nexus4_1</td>\n",
       "      <td>bike</td>\n",
       "      <td>2015-02-23</td>\n",
       "      <td>13</td>\n",
       "      <td>33</td>\n",
       "      <td>-4.900786</td>\n",
       "      <td>0.087041</td>\n",
       "      <td>8.845624</td>\n",
       "    </tr>\n",
       "    <tr>\n",
       "      <th>4</th>\n",
       "      <td>a</td>\n",
       "      <td>nexus4</td>\n",
       "      <td>nexus4_1</td>\n",
       "      <td>bike</td>\n",
       "      <td>2015-02-23</td>\n",
       "      <td>13</td>\n",
       "      <td>34</td>\n",
       "      <td>-4.793545</td>\n",
       "      <td>0.162035</td>\n",
       "      <td>8.903905</td>\n",
       "    </tr>\n",
       "  </tbody>\n",
       "</table>\n",
       "</div>"
      ],
      "text/plain": [
       "  User   Model    Device    gt        date  hour  minute         x         y  \\\n",
       "0    a  nexus4  nexus4_1  bike  2015-02-23    13      30 -4.895992  0.420529   \n",
       "1    a  nexus4  nexus4_1  bike  2015-02-23    13      31 -4.771115  0.227741   \n",
       "2    a  nexus4  nexus4_1  bike  2015-02-23    13      32 -4.722528  0.265253   \n",
       "3    a  nexus4  nexus4_1  bike  2015-02-23    13      33 -4.900786  0.087041   \n",
       "4    a  nexus4  nexus4_1  bike  2015-02-23    13      34 -4.793545  0.162035   \n",
       "\n",
       "          z  \n",
       "0  8.745772  \n",
       "1  8.895711  \n",
       "2  8.917659  \n",
       "3  8.845624  \n",
       "4  8.903905  "
      ]
     },
     "execution_count": 19,
     "metadata": {},
     "output_type": "execute_result"
    }
   ],
   "source": [
    "dfgb.head()"
   ]
  },
  {
   "cell_type": "code",
   "execution_count": 25,
   "metadata": {},
   "outputs": [],
   "source": [
    "pred_cols = [\"User\", \"Model\", \"hour\", \"minute\", \"x\", \"y\", \"z\"]\n",
    "label = [\"gt\"]\n",
    "dfpred = dfgb[pred_cols]\n"
   ]
  },
  {
   "cell_type": "code",
   "execution_count": 26,
   "metadata": {},
   "outputs": [
    {
     "data": {
      "text/plain": [
       "User       object\n",
       "Model      object\n",
       "hour        int64\n",
       "minute      int64\n",
       "x         float64\n",
       "y         float64\n",
       "z         float64\n",
       "dtype: object"
      ]
     },
     "execution_count": 26,
     "metadata": {},
     "output_type": "execute_result"
    }
   ],
   "source": [
    "dfpred.dtypes"
   ]
  },
  {
   "cell_type": "code",
   "execution_count": 31,
   "metadata": {},
   "outputs": [
    {
     "name": "stderr",
     "output_type": "stream",
     "text": [
      "/home/admin123/anaconda/lib/python2.7/site-packages/ipykernel_launcher.py:1: SettingWithCopyWarning: \n",
      "A value is trying to be set on a copy of a slice from a DataFrame.\n",
      "Try using .loc[row_indexer,col_indexer] = value instead\n",
      "\n",
      "See the caveats in the documentation: http://pandas.pydata.org/pandas-docs/stable/indexing.html#indexing-view-versus-copy\n",
      "  \"\"\"Entry point for launching an IPython kernel.\n"
     ]
    }
   ],
   "source": [
    "dfpred[\"hour\"] = dfpred[\"hour\"].astype(\"str\")"
   ]
  },
  {
   "cell_type": "code",
   "execution_count": 32,
   "metadata": {},
   "outputs": [],
   "source": [
    "import pandas as pd\n",
    "dfpred = pd.get_dummies(dfpred)"
   ]
  },
  {
   "cell_type": "code",
   "execution_count": 38,
   "metadata": {},
   "outputs": [],
   "source": [
    "dfpp = dfpred"
   ]
  },
  {
   "cell_type": "code",
   "execution_count": 40,
   "metadata": {},
   "outputs": [],
   "source": [
    "dfpp[\"gt\"] = dfgb[\"gt\"]"
   ]
  },
  {
   "cell_type": "code",
   "execution_count": 41,
   "metadata": {},
   "outputs": [
    {
     "data": {
      "text/plain": [
       "minute                int64\n",
       "x                   float64\n",
       "y                   float64\n",
       "z                   float64\n",
       "User_a                uint8\n",
       "User_b                uint8\n",
       "User_c                uint8\n",
       "User_d                uint8\n",
       "User_e                uint8\n",
       "User_f                uint8\n",
       "User_g                uint8\n",
       "User_h                uint8\n",
       "User_i                uint8\n",
       "Model_nexus4          uint8\n",
       "Model_s3              uint8\n",
       "Model_s3mini          uint8\n",
       "Model_samsungold      uint8\n",
       "hour_0                uint8\n",
       "hour_1                uint8\n",
       "hour_10               uint8\n",
       "hour_11               uint8\n",
       "hour_12               uint8\n",
       "hour_13               uint8\n",
       "hour_14               uint8\n",
       "hour_15               uint8\n",
       "hour_2                uint8\n",
       "hour_21               uint8\n",
       "hour_22               uint8\n",
       "hour_23               uint8\n",
       "hour_3                uint8\n",
       "hour_4                uint8\n",
       "hour_5                uint8\n",
       "hour_6                uint8\n",
       "hour_7                uint8\n",
       "gt                   object\n",
       "dtype: object"
      ]
     },
     "execution_count": 41,
     "metadata": {},
     "output_type": "execute_result"
    }
   ],
   "source": [
    "dfpp.dtypes"
   ]
  },
  {
   "cell_type": "code",
   "execution_count": 52,
   "metadata": {},
   "outputs": [],
   "source": [
    "from sklearn.model_selection import train_test_split\n",
    "traindf, testdf = train_test_split(dfpp, test_size=0.2)"
   ]
  },
  {
   "cell_type": "code",
   "execution_count": 53,
   "metadata": {},
   "outputs": [],
   "source": [
    "pred_cols = list(set(dfpp.columns) - set([\"gt\"]))"
   ]
  },
  {
   "cell_type": "code",
   "execution_count": 56,
   "metadata": {},
   "outputs": [],
   "source": [
    "traindfX = traindf[pred_cols]\n",
    "testdfX = testdf[pred_cols]\n",
    "traindfY = traindf[\"gt\"]\n",
    "testdfY = testdf[\"gt\"]"
   ]
  },
  {
   "cell_type": "code",
   "execution_count": 58,
   "metadata": {},
   "outputs": [],
   "source": [
    "from sklearn.tree import DecisionTreeClassifier\n",
    "clf = DecisionTreeClassifier(random_state=0)"
   ]
  },
  {
   "cell_type": "code",
   "execution_count": 59,
   "metadata": {},
   "outputs": [
    {
     "data": {
      "text/plain": [
       "DecisionTreeClassifier(class_weight=None, criterion='gini', max_depth=None,\n",
       "            max_features=None, max_leaf_nodes=None,\n",
       "            min_impurity_decrease=0.0, min_impurity_split=None,\n",
       "            min_samples_leaf=1, min_samples_split=2,\n",
       "            min_weight_fraction_leaf=0.0, presort=False, random_state=0,\n",
       "            splitter='best')"
      ]
     },
     "execution_count": 59,
     "metadata": {},
     "output_type": "execute_result"
    }
   ],
   "source": [
    "clf.fit(traindfX, traindfY)"
   ]
  },
  {
   "cell_type": "code",
   "execution_count": 60,
   "metadata": {},
   "outputs": [],
   "source": [
    "predY = clf.predict(testdfX)"
   ]
  },
  {
   "cell_type": "code",
   "execution_count": 61,
   "metadata": {},
   "outputs": [
    {
     "data": {
      "text/plain": [
       "0.8257575757575758"
      ]
     },
     "execution_count": 61,
     "metadata": {},
     "output_type": "execute_result"
    }
   ],
   "source": [
    "clf.score(testdfX, testdfY)"
   ]
  },
  {
   "cell_type": "code",
   "execution_count": 66,
   "metadata": {},
   "outputs": [
    {
     "data": {
      "text/plain": [
       "0.8314393939393939"
      ]
     },
     "execution_count": 66,
     "metadata": {},
     "output_type": "execute_result"
    }
   ],
   "source": [
    "from sklearn.ensemble import RandomForestClassifier\n",
    "clf = RandomForestClassifier(n_estimators=100, max_depth=10, random_state=0)\n",
    "clf.fit(traindfX, traindfY)\n",
    "clf.score(testdfX, testdfY)"
   ]
  },
  {
   "cell_type": "code",
   "execution_count": 67,
   "metadata": {},
   "outputs": [
    {
     "data": {
      "text/plain": [
       "array([0.00879149, 0.00426786, 0.00662177, 0.00163141, 0.00202165,\n",
       "       0.00661752, 0.00411713, 0.00860816, 0.00809102, 0.00880286,\n",
       "       0.00060113, 0.0012672 , 0.0019387 , 0.00846888, 0.01733131,\n",
       "       0.01944089, 0.01171974, 0.00842297, 0.00573012, 0.01239499,\n",
       "       0.01084085, 0.01484337, 0.00271217, 0.00287309, 0.08976583,\n",
       "       0.0057873 , 0.00843987, 0.00768605, 0.15803974, 0.33714459,\n",
       "       0.00666204, 0.19822185, 0.00487259, 0.00522387])"
      ]
     },
     "execution_count": 67,
     "metadata": {},
     "output_type": "execute_result"
    }
   ],
   "source": [
    "clf.feature_importances_"
   ]
  },
  {
   "cell_type": "code",
   "execution_count": 70,
   "metadata": {},
   "outputs": [
    {
     "data": {
      "image/png": "[encoded data removed]",
      "text/plain": [
       "<Figure size 1080x720 with 1 Axes>"
      ]
     },
     "metadata": {},
     "output_type": "display_data"
    }
   ],
   "source": [
    "importances = clf.feature_importances_\n",
    "indices = np.argsort(importances)\n",
    "f, ax = plt.subplots(1, 1, figsize = (15, 10))\n",
    "plt.title('Feature Importances')\n",
    "plt.barh(range(len(indices)), importances[indices], color='b', align='center')\n",
    "plt.yticks(range(len(indices)), [pred_cols[i] for i in indices])\n",
    "plt.xlabel('Relative Importance')\n",
    "plt.show()"
   ]
  },
  {
   "cell_type": "code",
   "execution_count": null,
   "metadata": {},
   "outputs": [],
   "source": []
  }
 ],
 "metadata": {
  "kernelspec": {
   "display_name": "Python 2",
   "language": "python",
   "name": "python2"
  },
  "language_info": {
   "codemirror_mode": {
    "name": "ipython",
    "version": 2
   },
   "file_extension": ".py",
   "mimetype": "text/x-python",
   "name": "python",
   "nbconvert_exporter": "python",
   "pygments_lexer": "ipython2",
   "version": "2.7.15"
  }
 },
 "nbformat": 4,
 "nbformat_minor": 2
}
