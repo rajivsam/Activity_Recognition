{
 "cells": [
  {
   "cell_type": "code",
   "execution_count": 1,
   "metadata": {},
   "outputs": [],
   "source": [
    "import os\n",
    "import dask.dataframe as dd\n",
    "import graphviz\n",
    "os.chdir(\"/home/admin123/Activity_Description/AR_data\")\n",
    "fp = \"Phones_accelerometer.csv\"\n",
    "df = dd.read_csv(fp)"
   ]
  },
  {
   "cell_type": "code",
   "execution_count": 2,
   "metadata": {},
   "outputs": [
    {
     "data": {
      "text/plain": [
       "Index([u'Index', u'Arrival_Time', u'Creation_Time', u'x', u'y', u'z', u'User',\n",
       "       u'Model', u'Device', u'gt'],\n",
       "      dtype='object')"
      ]
     },
     "execution_count": 2,
     "metadata": {},
     "output_type": "execute_result"
    }
   ],
   "source": [
    "df.columns"
   ]
  },
  {
   "cell_type": "code",
   "execution_count": 3,
   "metadata": {},
   "outputs": [],
   "source": [
    "req_cols = [\"Index\",\"User\", \"Creation_Time\", \"x\", \"y\", \"z\", \"gt\"]"
   ]
  },
  {
   "cell_type": "code",
   "execution_count": 4,
   "metadata": {},
   "outputs": [],
   "source": [
    "df = df[req_cols]"
   ]
  },
  {
   "cell_type": "code",
   "execution_count": 5,
   "metadata": {},
   "outputs": [
    {
     "data": {
      "text/html": [
       "<div>\n",
       "<style scoped>\n",
       "    .dataframe tbody tr th:only-of-type {\n",
       "        vertical-align: middle;\n",
       "    }\n",
       "\n",
       "    .dataframe tbody tr th {\n",
       "        vertical-align: top;\n",
       "    }\n",
       "\n",
       "    .dataframe thead th {\n",
       "        text-align: right;\n",
       "    }\n",
       "</style>\n",
       "<table border=\"1\" class=\"dataframe\">\n",
       "  <thead>\n",
       "    <tr style=\"text-align: right;\">\n",
       "      <th></th>\n",
       "      <th>Index</th>\n",
       "      <th>User</th>\n",
       "      <th>Creation_Time</th>\n",
       "      <th>x</th>\n",
       "      <th>y</th>\n",
       "      <th>z</th>\n",
       "      <th>gt</th>\n",
       "    </tr>\n",
       "  </thead>\n",
       "  <tbody>\n",
       "    <tr>\n",
       "      <th>0</th>\n",
       "      <td>0</td>\n",
       "      <td>a</td>\n",
       "      <td>1424696631913248572</td>\n",
       "      <td>-5.958191</td>\n",
       "      <td>0.688065</td>\n",
       "      <td>8.135345</td>\n",
       "      <td>stand</td>\n",
       "    </tr>\n",
       "    <tr>\n",
       "      <th>1</th>\n",
       "      <td>1</td>\n",
       "      <td>a</td>\n",
       "      <td>1424696631918283972</td>\n",
       "      <td>-5.952240</td>\n",
       "      <td>0.670212</td>\n",
       "      <td>8.136536</td>\n",
       "      <td>stand</td>\n",
       "    </tr>\n",
       "    <tr>\n",
       "      <th>2</th>\n",
       "      <td>2</td>\n",
       "      <td>a</td>\n",
       "      <td>1424696631923288855</td>\n",
       "      <td>-5.995087</td>\n",
       "      <td>0.653549</td>\n",
       "      <td>8.204376</td>\n",
       "      <td>stand</td>\n",
       "    </tr>\n",
       "    <tr>\n",
       "      <th>3</th>\n",
       "      <td>3</td>\n",
       "      <td>a</td>\n",
       "      <td>1424696631928385290</td>\n",
       "      <td>-5.942718</td>\n",
       "      <td>0.676163</td>\n",
       "      <td>8.128204</td>\n",
       "      <td>stand</td>\n",
       "    </tr>\n",
       "    <tr>\n",
       "      <th>4</th>\n",
       "      <td>4</td>\n",
       "      <td>a</td>\n",
       "      <td>1424696631933420691</td>\n",
       "      <td>-5.991516</td>\n",
       "      <td>0.641647</td>\n",
       "      <td>8.135345</td>\n",
       "      <td>stand</td>\n",
       "    </tr>\n",
       "  </tbody>\n",
       "</table>\n",
       "</div>"
      ],
      "text/plain": [
       "   Index User        Creation_Time         x         y         z     gt\n",
       "0      0    a  1424696631913248572 -5.958191  0.688065  8.135345  stand\n",
       "1      1    a  1424696631918283972 -5.952240  0.670212  8.136536  stand\n",
       "2      2    a  1424696631923288855 -5.995087  0.653549  8.204376  stand\n",
       "3      3    a  1424696631928385290 -5.942718  0.676163  8.128204  stand\n",
       "4      4    a  1424696631933420691 -5.991516  0.641647  8.135345  stand"
      ]
     },
     "execution_count": 5,
     "metadata": {},
     "output_type": "execute_result"
    }
   ],
   "source": [
    "df.head()"
   ]
  },
  {
   "cell_type": "code",
   "execution_count": 6,
   "metadata": {},
   "outputs": [
    {
     "name": "stderr",
     "output_type": "stream",
     "text": [
      "/home/admin123/anaconda/lib/python2.7/site-packages/pandas/core/internals.py:3714: FutureWarning: Passing in 'datetime64' dtype with no frequency is deprecated and will raise in a future version. Please pass in 'datetime64[ns]' instead.\n",
      "  return self.apply('astype', dtype=dtype, **kwargs)\n"
     ]
    }
   ],
   "source": [
    "import datetime\n",
    "import numpy as np\n",
    "df[\"Creation_Time\"] = df[\"Creation_Time\"].astype(\"datetime64\")"
   ]
  },
  {
   "cell_type": "code",
   "execution_count": 7,
   "metadata": {},
   "outputs": [],
   "source": [
    "#df = df[df[\"User\"] == 'e'].compute()"
   ]
  },
  {
   "cell_type": "code",
   "execution_count": 8,
   "metadata": {},
   "outputs": [],
   "source": [
    "df[\"date\"] = df[\"Creation_Time\"].dt.date"
   ]
  },
  {
   "cell_type": "code",
   "execution_count": 9,
   "metadata": {},
   "outputs": [
    {
     "data": {
      "text/plain": [
       "0    2015-02-23\n",
       "1    2015-02-23\n",
       "2    2015-02-23\n",
       "3    2015-02-23\n",
       "4    2015-02-23\n",
       "Name: date, dtype: object"
      ]
     },
     "execution_count": 9,
     "metadata": {},
     "output_type": "execute_result"
    }
   ],
   "source": [
    "df[\"date\"].head()"
   ]
  },
  {
   "cell_type": "code",
   "execution_count": 10,
   "metadata": {},
   "outputs": [],
   "source": [
    "df[\"hour\"] = df[\"Creation_Time\"].dt.hour"
   ]
  },
  {
   "cell_type": "code",
   "execution_count": 11,
   "metadata": {},
   "outputs": [],
   "source": [
    "df[\"minute\"] = df[\"Creation_Time\"].dt.minute"
   ]
  },
  {
   "cell_type": "code",
   "execution_count": 12,
   "metadata": {},
   "outputs": [
    {
     "data": {
      "text/plain": [
       "Index([u'Index', u'User', u'Creation_Time', u'x', u'y', u'z', u'gt', u'date',\n",
       "       u'hour', u'minute'],\n",
       "      dtype='object')"
      ]
     },
     "execution_count": 12,
     "metadata": {},
     "output_type": "execute_result"
    }
   ],
   "source": [
    "df.columns"
   ]
  },
  {
   "cell_type": "code",
   "execution_count": 13,
   "metadata": {},
   "outputs": [],
   "source": [
    "#dfs = df.set_index([\"User\",\"date\", \"hour\", \"minute\"])\n"
   ]
  },
  {
   "cell_type": "code",
   "execution_count": 14,
   "metadata": {},
   "outputs": [],
   "source": [
    "dfgb = df.groupby([\"User\",\"gt\",\"date\", \"hour\", \"minute\" ]).mean().compute()"
   ]
  },
  {
   "cell_type": "code",
   "execution_count": 15,
   "metadata": {},
   "outputs": [
    {
     "data": {
      "text/plain": [
       "2639"
      ]
     },
     "execution_count": 15,
     "metadata": {},
     "output_type": "execute_result"
    }
   ],
   "source": [
    "len(dfgb.index)"
   ]
  },
  {
   "cell_type": "code",
   "execution_count": 58,
   "metadata": {},
   "outputs": [
    {
     "data": {
      "text/html": [
       "<div>\n",
       "<style scoped>\n",
       "    .dataframe tbody tr th:only-of-type {\n",
       "        vertical-align: middle;\n",
       "    }\n",
       "\n",
       "    .dataframe tbody tr th {\n",
       "        vertical-align: top;\n",
       "    }\n",
       "\n",
       "    .dataframe thead th {\n",
       "        text-align: right;\n",
       "    }\n",
       "</style>\n",
       "<table border=\"1\" class=\"dataframe\">\n",
       "  <thead>\n",
       "    <tr style=\"text-align: right;\">\n",
       "      <th></th>\n",
       "      <th>level_0</th>\n",
       "      <th>index</th>\n",
       "      <th>User</th>\n",
       "      <th>gt</th>\n",
       "      <th>date</th>\n",
       "      <th>hour</th>\n",
       "      <th>minute</th>\n",
       "      <th>Creation_Time</th>\n",
       "      <th>Index</th>\n",
       "      <th>x</th>\n",
       "      <th>y</th>\n",
       "      <th>z</th>\n",
       "    </tr>\n",
       "  </thead>\n",
       "  <tbody>\n",
       "    <tr>\n",
       "      <th>0</th>\n",
       "      <td>0</td>\n",
       "      <td>0</td>\n",
       "      <td>a</td>\n",
       "      <td>bike</td>\n",
       "      <td>2015-02-23</td>\n",
       "      <td>13</td>\n",
       "      <td>30</td>\n",
       "      <td>NaN</td>\n",
       "      <td>290092.0</td>\n",
       "      <td>-4.895992</td>\n",
       "      <td>0.420529</td>\n",
       "      <td>8.745772</td>\n",
       "    </tr>\n",
       "    <tr>\n",
       "      <th>1</th>\n",
       "      <td>1</td>\n",
       "      <td>1</td>\n",
       "      <td>a</td>\n",
       "      <td>bike</td>\n",
       "      <td>2015-02-23</td>\n",
       "      <td>13</td>\n",
       "      <td>31</td>\n",
       "      <td>NaN</td>\n",
       "      <td>297413.5</td>\n",
       "      <td>-4.771115</td>\n",
       "      <td>0.227741</td>\n",
       "      <td>8.895711</td>\n",
       "    </tr>\n",
       "    <tr>\n",
       "      <th>2</th>\n",
       "      <td>2</td>\n",
       "      <td>2</td>\n",
       "      <td>a</td>\n",
       "      <td>bike</td>\n",
       "      <td>2015-02-23</td>\n",
       "      <td>13</td>\n",
       "      <td>32</td>\n",
       "      <td>NaN</td>\n",
       "      <td>305203.5</td>\n",
       "      <td>-4.722528</td>\n",
       "      <td>0.265253</td>\n",
       "      <td>8.917659</td>\n",
       "    </tr>\n",
       "    <tr>\n",
       "      <th>3</th>\n",
       "      <td>3</td>\n",
       "      <td>3</td>\n",
       "      <td>a</td>\n",
       "      <td>bike</td>\n",
       "      <td>2015-02-23</td>\n",
       "      <td>13</td>\n",
       "      <td>33</td>\n",
       "      <td>NaN</td>\n",
       "      <td>311814.0</td>\n",
       "      <td>-4.900786</td>\n",
       "      <td>0.087041</td>\n",
       "      <td>8.845624</td>\n",
       "    </tr>\n",
       "    <tr>\n",
       "      <th>4</th>\n",
       "      <td>4</td>\n",
       "      <td>4</td>\n",
       "      <td>a</td>\n",
       "      <td>bike</td>\n",
       "      <td>2015-02-23</td>\n",
       "      <td>13</td>\n",
       "      <td>34</td>\n",
       "      <td>NaN</td>\n",
       "      <td>318346.0</td>\n",
       "      <td>-4.793545</td>\n",
       "      <td>0.162035</td>\n",
       "      <td>8.903905</td>\n",
       "    </tr>\n",
       "    <tr>\n",
       "      <th>5</th>\n",
       "      <td>5</td>\n",
       "      <td>5</td>\n",
       "      <td>a</td>\n",
       "      <td>bike</td>\n",
       "      <td>2015-02-23</td>\n",
       "      <td>13</td>\n",
       "      <td>35</td>\n",
       "      <td>NaN</td>\n",
       "      <td>322752.0</td>\n",
       "      <td>-4.491119</td>\n",
       "      <td>0.484359</td>\n",
       "      <td>9.031090</td>\n",
       "    </tr>\n",
       "    <tr>\n",
       "      <th>6</th>\n",
       "      <td>6</td>\n",
       "      <td>6</td>\n",
       "      <td>a</td>\n",
       "      <td>bike</td>\n",
       "      <td>2015-02-23</td>\n",
       "      <td>14</td>\n",
       "      <td>1</td>\n",
       "      <td>NaN</td>\n",
       "      <td>283409.0</td>\n",
       "      <td>-4.908196</td>\n",
       "      <td>0.456612</td>\n",
       "      <td>8.387537</td>\n",
       "    </tr>\n",
       "    <tr>\n",
       "      <th>7</th>\n",
       "      <td>7</td>\n",
       "      <td>7</td>\n",
       "      <td>a</td>\n",
       "      <td>bike</td>\n",
       "      <td>2015-02-23</td>\n",
       "      <td>14</td>\n",
       "      <td>2</td>\n",
       "      <td>NaN</td>\n",
       "      <td>292708.5</td>\n",
       "      <td>-4.835586</td>\n",
       "      <td>0.351113</td>\n",
       "      <td>8.498096</td>\n",
       "    </tr>\n",
       "    <tr>\n",
       "      <th>8</th>\n",
       "      <td>8</td>\n",
       "      <td>8</td>\n",
       "      <td>a</td>\n",
       "      <td>bike</td>\n",
       "      <td>2015-02-23</td>\n",
       "      <td>14</td>\n",
       "      <td>3</td>\n",
       "      <td>NaN</td>\n",
       "      <td>302107.5</td>\n",
       "      <td>-4.654283</td>\n",
       "      <td>0.495553</td>\n",
       "      <td>8.579089</td>\n",
       "    </tr>\n",
       "    <tr>\n",
       "      <th>9</th>\n",
       "      <td>9</td>\n",
       "      <td>9</td>\n",
       "      <td>a</td>\n",
       "      <td>sit</td>\n",
       "      <td>2015-02-23</td>\n",
       "      <td>13</td>\n",
       "      <td>9</td>\n",
       "      <td>NaN</td>\n",
       "      <td>60954.5</td>\n",
       "      <td>0.398511</td>\n",
       "      <td>-0.519361</td>\n",
       "      <td>10.254015</td>\n",
       "    </tr>\n",
       "    <tr>\n",
       "      <th>10</th>\n",
       "      <td>10</td>\n",
       "      <td>10</td>\n",
       "      <td>a</td>\n",
       "      <td>sit</td>\n",
       "      <td>2015-02-23</td>\n",
       "      <td>13</td>\n",
       "      <td>10</td>\n",
       "      <td>NaN</td>\n",
       "      <td>72008.5</td>\n",
       "      <td>0.367867</td>\n",
       "      <td>-0.521858</td>\n",
       "      <td>10.258296</td>\n",
       "    </tr>\n",
       "    <tr>\n",
       "      <th>11</th>\n",
       "      <td>11</td>\n",
       "      <td>11</td>\n",
       "      <td>a</td>\n",
       "      <td>sit</td>\n",
       "      <td>2015-02-23</td>\n",
       "      <td>13</td>\n",
       "      <td>11</td>\n",
       "      <td>NaN</td>\n",
       "      <td>83893.0</td>\n",
       "      <td>0.388751</td>\n",
       "      <td>-0.548600</td>\n",
       "      <td>10.257461</td>\n",
       "    </tr>\n",
       "    <tr>\n",
       "      <th>12</th>\n",
       "      <td>12</td>\n",
       "      <td>12</td>\n",
       "      <td>a</td>\n",
       "      <td>sit</td>\n",
       "      <td>2015-02-23</td>\n",
       "      <td>13</td>\n",
       "      <td>12</td>\n",
       "      <td>NaN</td>\n",
       "      <td>95805.5</td>\n",
       "      <td>0.415979</td>\n",
       "      <td>-0.556089</td>\n",
       "      <td>10.257593</td>\n",
       "    </tr>\n",
       "    <tr>\n",
       "      <th>13</th>\n",
       "      <td>13</td>\n",
       "      <td>13</td>\n",
       "      <td>a</td>\n",
       "      <td>sit</td>\n",
       "      <td>2015-02-23</td>\n",
       "      <td>13</td>\n",
       "      <td>13</td>\n",
       "      <td>NaN</td>\n",
       "      <td>107687.0</td>\n",
       "      <td>0.412031</td>\n",
       "      <td>-0.541542</td>\n",
       "      <td>10.259347</td>\n",
       "    </tr>\n",
       "    <tr>\n",
       "      <th>14</th>\n",
       "      <td>14</td>\n",
       "      <td>14</td>\n",
       "      <td>a</td>\n",
       "      <td>sit</td>\n",
       "      <td>2015-02-23</td>\n",
       "      <td>13</td>\n",
       "      <td>14</td>\n",
       "      <td>NaN</td>\n",
       "      <td>114697.5</td>\n",
       "      <td>0.509805</td>\n",
       "      <td>-0.529403</td>\n",
       "      <td>10.258923</td>\n",
       "    </tr>\n",
       "    <tr>\n",
       "      <th>15</th>\n",
       "      <td>15</td>\n",
       "      <td>15</td>\n",
       "      <td>a</td>\n",
       "      <td>sit</td>\n",
       "      <td>2015-02-23</td>\n",
       "      <td>13</td>\n",
       "      <td>39</td>\n",
       "      <td>NaN</td>\n",
       "      <td>57943.5</td>\n",
       "      <td>0.248885</td>\n",
       "      <td>-0.824976</td>\n",
       "      <td>9.832467</td>\n",
       "    </tr>\n",
       "    <tr>\n",
       "      <th>16</th>\n",
       "      <td>16</td>\n",
       "      <td>16</td>\n",
       "      <td>a</td>\n",
       "      <td>sit</td>\n",
       "      <td>2015-02-23</td>\n",
       "      <td>13</td>\n",
       "      <td>40</td>\n",
       "      <td>NaN</td>\n",
       "      <td>64104.5</td>\n",
       "      <td>0.345502</td>\n",
       "      <td>-0.715078</td>\n",
       "      <td>9.838996</td>\n",
       "    </tr>\n",
       "    <tr>\n",
       "      <th>17</th>\n",
       "      <td>17</td>\n",
       "      <td>17</td>\n",
       "      <td>a</td>\n",
       "      <td>sit</td>\n",
       "      <td>2015-02-23</td>\n",
       "      <td>13</td>\n",
       "      <td>41</td>\n",
       "      <td>NaN</td>\n",
       "      <td>75820.0</td>\n",
       "      <td>0.320777</td>\n",
       "      <td>-0.729249</td>\n",
       "      <td>9.840849</td>\n",
       "    </tr>\n",
       "    <tr>\n",
       "      <th>18</th>\n",
       "      <td>18</td>\n",
       "      <td>18</td>\n",
       "      <td>a</td>\n",
       "      <td>sit</td>\n",
       "      <td>2015-02-23</td>\n",
       "      <td>13</td>\n",
       "      <td>42</td>\n",
       "      <td>NaN</td>\n",
       "      <td>87733.5</td>\n",
       "      <td>0.346890</td>\n",
       "      <td>-0.755610</td>\n",
       "      <td>9.840243</td>\n",
       "    </tr>\n",
       "    <tr>\n",
       "      <th>19</th>\n",
       "      <td>19</td>\n",
       "      <td>19</td>\n",
       "      <td>a</td>\n",
       "      <td>sit</td>\n",
       "      <td>2015-02-23</td>\n",
       "      <td>13</td>\n",
       "      <td>43</td>\n",
       "      <td>NaN</td>\n",
       "      <td>99588.5</td>\n",
       "      <td>0.361946</td>\n",
       "      <td>-0.752667</td>\n",
       "      <td>9.843499</td>\n",
       "    </tr>\n",
       "  </tbody>\n",
       "</table>\n",
       "</div>"
      ],
      "text/plain": [
       "    level_0  index User    gt        date  hour  minute  Creation_Time  \\\n",
       "0         0      0    a  bike  2015-02-23    13      30            NaN   \n",
       "1         1      1    a  bike  2015-02-23    13      31            NaN   \n",
       "2         2      2    a  bike  2015-02-23    13      32            NaN   \n",
       "3         3      3    a  bike  2015-02-23    13      33            NaN   \n",
       "4         4      4    a  bike  2015-02-23    13      34            NaN   \n",
       "5         5      5    a  bike  2015-02-23    13      35            NaN   \n",
       "6         6      6    a  bike  2015-02-23    14       1            NaN   \n",
       "7         7      7    a  bike  2015-02-23    14       2            NaN   \n",
       "8         8      8    a  bike  2015-02-23    14       3            NaN   \n",
       "9         9      9    a   sit  2015-02-23    13       9            NaN   \n",
       "10       10     10    a   sit  2015-02-23    13      10            NaN   \n",
       "11       11     11    a   sit  2015-02-23    13      11            NaN   \n",
       "12       12     12    a   sit  2015-02-23    13      12            NaN   \n",
       "13       13     13    a   sit  2015-02-23    13      13            NaN   \n",
       "14       14     14    a   sit  2015-02-23    13      14            NaN   \n",
       "15       15     15    a   sit  2015-02-23    13      39            NaN   \n",
       "16       16     16    a   sit  2015-02-23    13      40            NaN   \n",
       "17       17     17    a   sit  2015-02-23    13      41            NaN   \n",
       "18       18     18    a   sit  2015-02-23    13      42            NaN   \n",
       "19       19     19    a   sit  2015-02-23    13      43            NaN   \n",
       "\n",
       "       Index         x         y          z  \n",
       "0   290092.0 -4.895992  0.420529   8.745772  \n",
       "1   297413.5 -4.771115  0.227741   8.895711  \n",
       "2   305203.5 -4.722528  0.265253   8.917659  \n",
       "3   311814.0 -4.900786  0.087041   8.845624  \n",
       "4   318346.0 -4.793545  0.162035   8.903905  \n",
       "5   322752.0 -4.491119  0.484359   9.031090  \n",
       "6   283409.0 -4.908196  0.456612   8.387537  \n",
       "7   292708.5 -4.835586  0.351113   8.498096  \n",
       "8   302107.5 -4.654283  0.495553   8.579089  \n",
       "9    60954.5  0.398511 -0.519361  10.254015  \n",
       "10   72008.5  0.367867 -0.521858  10.258296  \n",
       "11   83893.0  0.388751 -0.548600  10.257461  \n",
       "12   95805.5  0.415979 -0.556089  10.257593  \n",
       "13  107687.0  0.412031 -0.541542  10.259347  \n",
       "14  114697.5  0.509805 -0.529403  10.258923  \n",
       "15   57943.5  0.248885 -0.824976   9.832467  \n",
       "16   64104.5  0.345502 -0.715078   9.838996  \n",
       "17   75820.0  0.320777 -0.729249   9.840849  \n",
       "18   87733.5  0.346890 -0.755610   9.840243  \n",
       "19   99588.5  0.361946 -0.752667   9.843499  "
      ]
     },
     "execution_count": 58,
     "metadata": {},
     "output_type": "execute_result"
    }
   ],
   "source": [
    "#dfgb.reset_index()\n",
    "dfgb.head(20)"
   ]
  },
  {
   "cell_type": "code",
   "execution_count": 54,
   "metadata": {},
   "outputs": [],
   "source": [
    "import seaborn as sns\n"
   ]
  },
  {
   "cell_type": "code",
   "execution_count": 70,
   "metadata": {},
   "outputs": [
    {
     "data": {
      "text/plain": [
       "<matplotlib.axes._subplots.AxesSubplot at 0x7fd107db6350>"
      ]
     },
     "execution_count": 70,
     "metadata": {},
     "output_type": "execute_result"
    },
    {
     "data": {
      "image/png": "[encoded data removed]",
      "text/plain": [
       "<Figure size 1080x720 with 1 Axes>"
      ]
     },
     "metadata": {},
     "output_type": "display_data"
    }
   ],
   "source": [
    "import matplotlib.pyplot as plt\n",
    "plt.style.use('classic')\n",
    "%matplotlib inline\n",
    "f, ax = plt.subplots(1, 1, figsize = (15, 10))\n",
    "sns.countplot(x = \"User\", hue = \"gt\", data = dfgb)"
   ]
  },
  {
   "cell_type": "code",
   "execution_count": 71,
   "metadata": {},
   "outputs": [
    {
     "data": {
      "text/plain": [
       "<seaborn.axisgrid.FacetGrid at 0x7fd10d8272d0>"
      ]
     },
     "execution_count": 71,
     "metadata": {},
     "output_type": "execute_result"
    },
    {
     "data": {
      "image/png": "[encoded data removed]",
      "text/plain": [
       "<Figure size 1296x1944 with 54 Axes>"
      ]
     },
     "metadata": {},
     "output_type": "display_data"
    }
   ],
   "source": [
    "\n",
    "\n",
    "grid = sns.FacetGrid(dfgb, row=\"User\", col=\"gt\", margin_titles=True)\n",
    "grid.map(plt.hist, \"x\")"
   ]
  },
  {
   "cell_type": "code",
   "execution_count": null,
   "metadata": {},
   "outputs": [],
   "source": []
  }
 ],
 "metadata": {
  "kernelspec": {
   "display_name": "Python 2",
   "language": "python",
   "name": "python2"
  },
  "language_info": {
   "codemirror_mode": {
    "name": "ipython",
    "version": 2
   },
   "file_extension": ".py",
   "mimetype": "text/x-python",
   "name": "python",
   "nbconvert_exporter": "python",
   "pygments_lexer": "ipython2",
   "version": "2.7.15"
  }
 },
 "nbformat": 4,
 "nbformat_minor": 2
}
